{
 "cells": [
  {
   "cell_type": "code",
   "execution_count": 118,
   "id": "707d48e0",
   "metadata": {},
   "outputs": [],
   "source": [
    "import pandas as pd\n",
    "from pprint import pprint\n",
    "import matplotlib.pyplot as plt\n",
    "from adjustText import adjust_text\n",
    "from matplotlib import font_manager"
   ]
  },
  {
   "cell_type": "code",
   "execution_count": 135,
   "id": "216d2b18",
   "metadata": {},
   "outputs": [],
   "source": [
    "df = pd.read_excel(\"/blagajpy.xlsx\")"
   ]
  },
  {
   "cell_type": "code",
   "execution_count": 86,
   "id": "3340f6ef",
   "metadata": {},
   "outputs": [],
   "source": [
    "categories = {}\n",
    "\n",
    "for _, row in df.iterrows():  # iterate over each indicator\n",
    "    key1 = row['Code 1']\n",
    "\n",
    "    if not pd.isna(key1):  # if category #1 exists\n",
    "        if key1 not in categories:\n",
    "            categories[key1] = 0\n",
    "        categories[key1] += row['Total']  # give the subcategory #1 one vote\n",
    "    \n",
    "    key2 = row['Code 2'] \n",
    "    if not pd.isna(key2):  # if category #2 exists\n",
    "        if key2 not in categories:\n",
    "            categories[key2] = 0\n",
    "        categories[key2] += row['Total']  # give the subcategory #2 one vote"
   ]
  },
  {
   "cell_type": "code",
   "execution_count": 89,
   "id": "7c8df691",
   "metadata": {},
   "outputs": [],
   "source": [
    "sorted_subcategories = dict(sorted(categories.items(), key=lambda item: item[1], reverse=True))"
   ]
  },
  {
   "cell_type": "code",
   "execution_count": 128,
   "id": "afc9c22e",
   "metadata": {},
   "outputs": [],
   "source": [
    "grouped_categories = {}\n",
    "for i in range(22):\n",
    "    grouped_categories[str(i + 1)] = []"
   ]
  },
  {
   "cell_type": "code",
   "execution_count": 129,
   "id": "8e2a21cb",
   "metadata": {},
   "outputs": [],
   "source": [
    "for subcat, votes in sorted_subcategories.items():\n",
    "    parent = str(subcat).split(\".\")[0]\n",
    "    \n",
    "    if parent == '0':\n",
    "        continue\n",
    "    \n",
    "    grouped_categories[parent].append({subcat: votes})"
   ]
  },
  {
   "cell_type": "code",
   "execution_count": 169,
   "id": "20956684",
   "metadata": {},
   "outputs": [],
   "source": [
    "category_names = [\n",
    "    'Integration and acceptance',\n",
    "    'Tranquility/security ',\n",
    "    'Public space',\n",
    "    'Criminality and Legal Enforcement',\n",
    "    'Police',\n",
    "    'Social Relations',\n",
    "    'Legacies of War',\n",
    "    'Nationalism',\n",
    "    'Governance',\n",
    "    'Social Programs / Social Services',\n",
    "    'Socializing',\n",
    "    'Sport',\n",
    "    'Media',\n",
    "    'Religion',\n",
    "    'Youth',\n",
    "    'Drugs & Alcohol',\n",
    "    'Infrastructure',\n",
    "    'Environment',\n",
    "    'Education',\n",
    "    'Business',\n",
    "    'Motor Vehicles ',\n",
    "    'Gender'\n",
    "]"
   ]
  },
  {
   "cell_type": "code",
   "execution_count": null,
   "id": "3930ea56",
   "metadata": {},
   "outputs": [],
   "source": [
    "fig, ax = plt.subplots(1,1, figsize=(25, 25))\n",
    "\n",
    "# empty horizontal lines\n",
    "ax.hlines(y=list(grouped_categories.keys()), color='gray', xmin=0, xmax=120)\n",
    "\n",
    "# draw markers\n",
    "for p, subs in grouped_categories.items():\n",
    "    for s in subs:\n",
    "        ax.scatter(y=p, x=list(s.values())[0], s=150, marker='|', color='black')\n",
    "\n",
    "# write category names as y-axis ticks\n",
    "ax.set_yticklabels(category_names)\n",
    "\n",
    "# write label over marker\n",
    "texts = []\n",
    "for p, subs in grouped_categories.items():\n",
    "    for s in subs:\n",
    "        texts.append(plt.text(float(list(s.values())[0])-1, float(p)-0.8, list(s.keys())[0], rotation=90))\n",
    "adjust_text(texts)\n",
    "plt.savefig(\"DotPlot_all.pdf\", bbox_inches='tight')"
   ]
  },
  {
   "cell_type": "code",
   "execution_count": 212,
   "id": "9cad1d57",
   "metadata": {},
   "outputs": [],
   "source": [
    "top5cats = [_-1 for _ in [1, 8, 11, 17, 20]]"
   ]
  },
  {
   "cell_type": "code",
   "execution_count": 237,
   "id": "39bf82ea",
   "metadata": {},
   "outputs": [],
   "source": [
    "plt.rcParams.update({'font.size': 14})\n",
    "plt.rcParams.update({\n",
    "    \"text.usetex\": False,\n",
    "    \"font.family\": \"serif\",\n",
    "})\n",
    "plt.rcParams['pdf.fonttype'] = 42\n",
    "font_path = '/helvetica.ttf'\n",
    "font_manager.fontManager.addfont(font_path)\n",
    "prop = font_manager.FontProperties(fname=font_path)\n",
    "plt.rcParams['font.family'] = 'sans-serif'\n",
    "plt.rcParams['font.sans-serif'] = prop.get_name()"
   ]
  },
  {
   "cell_type": "code",
   "execution_count": null,
   "id": "94976e94",
   "metadata": {},
   "outputs": [],
   "source": [
    "fig, ax = plt.subplots(1,1, figsize=(14, 5))\n",
    "\n",
    "# empty horizontal lines\n",
    "ax.hlines(y=np.arange(5), color='gray', xmin=0, xmax=120)\n",
    "\n",
    "# draw markers\n",
    "for p, subs in grouped_categories.items():\n",
    "    if int(p)-1 in top5cats:\n",
    "        for s in subs:\n",
    "            ax.scatter(y=p, x=list(s.values())[0], s=150, marker='|', color='black')\n",
    "\n",
    "# write category names as y-axis ticks\n",
    "ax.set_yticklabels(np.array(category_names)[top5cats][::-1])\n",
    "\n",
    "# write label over marker\n",
    "texts = []\n",
    "y = 0\n",
    "for p, subs in grouped_categories.items():\n",
    "    if int(p)-1 in top5cats:\n",
    "        y+=1\n",
    "        for s in subs:\n",
    "            texts.append(plt.text(float(list(s.values())[0])-1, y-0.8, list(s.keys())[0], rotation=90))\n",
    "plt.savefig('dotplot_top5.pdf', bbox_inches='tight')\n",
    "#adjust_text(texts)"
   ]
  },
  {
   "cell_type": "code",
   "execution_count": null,
   "id": "147e99a5",
   "metadata": {},
   "outputs": [],
   "source": []
  },
  {
   "cell_type": "code",
   "execution_count": null,
   "id": "1f1337dd",
   "metadata": {},
   "outputs": [],
   "source": []
  },
  {
   "cell_type": "code",
   "execution_count": null,
   "id": "2098e958",
   "metadata": {},
   "outputs": [],
   "source": []
  }
 ],
 "metadata": {
  "kernelspec": {
   "display_name": "Python 3",
   "language": "python",
   "name": "python3"
  },
  "language_info": {
   "codemirror_mode": {
    "name": "ipython",
    "version": 3
   },
   "file_extension": ".py",
   "mimetype": "text/x-python",
   "name": "python",
   "nbconvert_exporter": "python",
   "pygments_lexer": "ipython3",
   "version": "3.8.2"
  }
 },
 "nbformat": 4,
 "nbformat_minor": 5
}
